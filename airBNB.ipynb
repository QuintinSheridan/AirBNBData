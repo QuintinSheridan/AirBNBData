{
 "cells": [
  {
   "cell_type": "code",
   "execution_count": 1,
   "metadata": {},
   "outputs": [],
   "source": [
    "import pandas as pd\n",
    "from pandas.testing import assert_frame_equal\n",
    "import numpy as np\n",
    "import matplotlib.pyplot as plt\n",
    "from sklearn import preprocessing\n",
    "from sklearn.linear_model import LinearRegression\n",
    "from sklearn.metrics import r2_score, mean_squared_error\n",
    "\n",
    "import seaborn as sns\n",
    "%matplotlib inline"
   ]
  },
  {
   "cell_type": "markdown",
   "metadata": {},
   "source": [
    "### First, we need to import the datasets."
   ]
  },
  {
   "cell_type": "code",
   "execution_count": 2,
   "metadata": {},
   "outputs": [],
   "source": [
    "boston_calendar_df = pd.read_csv('Data/boston_calendar.csv')\n",
    "boston_listings_df = pd.read_csv('Data/boston_listings.csv')\n",
    "boston_reviews_df = pd.read_csv('Data/boston_reviews.csv')\n",
    "seattle_calendar_df = pd.read_csv('Data/seattle_calendar.csv')\n",
    "seattle_listings_df = pd.read_csv('Data/seattle_listings.csv')\n",
    "seattle_reviews_df = pd.read_csv('Data/seattle_reviews.csv')"
   ]
  },
  {
   "cell_type": "code",
   "execution_count": 3,
   "metadata": {},
   "outputs": [
    {
     "data": {
      "text/plain": [
       "Index(['listing_id', 'date', 'available', 'price'], dtype='object')"
      ]
     },
     "execution_count": 3,
     "metadata": {},
     "output_type": "execute_result"
    }
   ],
   "source": [
    "boston_calendar_df.columns"
   ]
  },
  {
   "cell_type": "code",
   "execution_count": 4,
   "metadata": {},
   "outputs": [
    {
     "data": {
      "text/plain": [
       "['id',\n",
       " 'listing_url',\n",
       " 'scrape_id',\n",
       " 'last_scraped',\n",
       " 'name',\n",
       " 'summary',\n",
       " 'space',\n",
       " 'description',\n",
       " 'experiences_offered',\n",
       " 'neighborhood_overview',\n",
       " 'notes',\n",
       " 'transit',\n",
       " 'access',\n",
       " 'interaction',\n",
       " 'house_rules',\n",
       " 'thumbnail_url',\n",
       " 'medium_url',\n",
       " 'picture_url',\n",
       " 'xl_picture_url',\n",
       " 'host_id',\n",
       " 'host_url',\n",
       " 'host_name',\n",
       " 'host_since',\n",
       " 'host_location',\n",
       " 'host_about',\n",
       " 'host_response_time',\n",
       " 'host_response_rate',\n",
       " 'host_acceptance_rate',\n",
       " 'host_is_superhost',\n",
       " 'host_thumbnail_url',\n",
       " 'host_picture_url',\n",
       " 'host_neighbourhood',\n",
       " 'host_listings_count',\n",
       " 'host_total_listings_count',\n",
       " 'host_verifications',\n",
       " 'host_has_profile_pic',\n",
       " 'host_identity_verified',\n",
       " 'street',\n",
       " 'neighbourhood',\n",
       " 'neighbourhood_cleansed',\n",
       " 'neighbourhood_group_cleansed',\n",
       " 'city',\n",
       " 'state',\n",
       " 'zipcode',\n",
       " 'market',\n",
       " 'smart_location',\n",
       " 'country_code',\n",
       " 'country',\n",
       " 'latitude',\n",
       " 'longitude',\n",
       " 'is_location_exact',\n",
       " 'property_type',\n",
       " 'room_type',\n",
       " 'accommodates',\n",
       " 'bathrooms',\n",
       " 'bedrooms',\n",
       " 'beds',\n",
       " 'bed_type',\n",
       " 'amenities',\n",
       " 'square_feet',\n",
       " 'price',\n",
       " 'weekly_price',\n",
       " 'monthly_price',\n",
       " 'security_deposit',\n",
       " 'cleaning_fee',\n",
       " 'guests_included',\n",
       " 'extra_people',\n",
       " 'minimum_nights',\n",
       " 'maximum_nights',\n",
       " 'calendar_updated',\n",
       " 'has_availability',\n",
       " 'availability_30',\n",
       " 'availability_60',\n",
       " 'availability_90',\n",
       " 'availability_365',\n",
       " 'calendar_last_scraped',\n",
       " 'number_of_reviews',\n",
       " 'first_review',\n",
       " 'last_review',\n",
       " 'review_scores_rating',\n",
       " 'review_scores_accuracy',\n",
       " 'review_scores_cleanliness',\n",
       " 'review_scores_checkin',\n",
       " 'review_scores_communication',\n",
       " 'review_scores_location',\n",
       " 'review_scores_value',\n",
       " 'requires_license',\n",
       " 'license',\n",
       " 'jurisdiction_names',\n",
       " 'instant_bookable',\n",
       " 'cancellation_policy',\n",
       " 'require_guest_profile_picture',\n",
       " 'require_guest_phone_verification',\n",
       " 'calculated_host_listings_count',\n",
       " 'reviews_per_month']"
      ]
     },
     "execution_count": 4,
     "metadata": {},
     "output_type": "execute_result"
    }
   ],
   "source": [
    "boston_listings_df.columns.tolist()"
   ]
  },
  {
   "cell_type": "markdown",
   "metadata": {},
   "source": [
    "### Next, we need to make sure all columns are the same for both cities"
   ]
  },
  {
   "cell_type": "code",
   "execution_count": 5,
   "metadata": {},
   "outputs": [],
   "source": [
    "calender_keep_rows = set(boston_calendar_df.columns.intersection(set(seattle_calendar_df)))\n",
    "listings_keep_rows = set(boston_listings_df.columns.intersection(set(seattle_listings_df)))\n",
    "reviews_keep_rows = set(boston_reviews_df.columns.intersection(set(seattle_reviews_df)))"
   ]
  },
  {
   "cell_type": "code",
   "execution_count": 6,
   "metadata": {},
   "outputs": [],
   "source": [
    "def drop_cols(df, keep_cols):\n",
    "    '''Function that removes columns from a dataframe\n",
    "    Args:\n",
    "        df (df): dataframe\n",
    "        keep_cols ([str]): columns to keep\n",
    "    Returns:\n",
    "        df (df): df with only keep_cols columns\n",
    "    '''\n",
    "    drop_cols = list(set(df.columns)-set(keep_cols))\n",
    "    df = df.drop(drop_cols, axis=1)\n",
    "    \n",
    "    return df"
   ]
  },
  {
   "cell_type": "code",
   "execution_count": 7,
   "metadata": {},
   "outputs": [],
   "source": [
    "# calendar\n",
    "boston_calendar_df = drop_cols(boston_calendar_df, calender_keep_rows)\n",
    "seattle_calendar_df = drop_cols(seattle_calendar_df, calender_keep_rows)\n",
    "\n",
    "# listings\n",
    "boston_listings_df = drop_cols(boston_listings_df, listings_keep_rows)\n",
    "seattle_listings_df = drop_cols(seattle_listings_df, listings_keep_rows)\n",
    "\n",
    "# reviews\n",
    "boston_reviews_df = drop_cols(boston_reviews_df, reviews_keep_rows)\n",
    "seattle_reviews_df = drop_cols(seattle_reviews_df, reviews_keep_rows)"
   ]
  },
  {
   "cell_type": "markdown",
   "metadata": {},
   "source": [
    "### Next, lets see what the data types are for each df."
   ]
  },
  {
   "cell_type": "code",
   "execution_count": 8,
   "metadata": {},
   "outputs": [
    {
     "name": "stdout",
     "output_type": "stream",
     "text": [
      "Calendar: \n",
      "\n",
      "boston_df: \n",
      " listing_id     int64\n",
      "date          object\n",
      "available     object\n",
      "price         object\n",
      "dtype: object\n",
      "\n",
      " seattle_df: \n",
      " listing_id     int64\n",
      "date          object\n",
      "available     object\n",
      "price         object\n",
      "dtype: object\n",
      "\n",
      " Listings: \n",
      "\n",
      "boston_df: \n",
      " id                                    int64\n",
      "listing_url                          object\n",
      "scrape_id                             int64\n",
      "last_scraped                         object\n",
      "name                                 object\n",
      "                                     ...   \n",
      "cancellation_policy                  object\n",
      "require_guest_profile_picture        object\n",
      "require_guest_phone_verification     object\n",
      "calculated_host_listings_count        int64\n",
      "reviews_per_month                   float64\n",
      "Length: 92, dtype: object\n",
      "\n",
      "  seattle_df: \n",
      " id                                    int64\n",
      "listing_url                          object\n",
      "scrape_id                             int64\n",
      "last_scraped                         object\n",
      "name                                 object\n",
      "                                     ...   \n",
      "cancellation_policy                  object\n",
      "require_guest_profile_picture        object\n",
      "require_guest_phone_verification     object\n",
      "calculated_host_listings_count        int64\n",
      "reviews_per_month                   float64\n",
      "Length: 92, dtype: object\n",
      "\n",
      " Reviews: \n",
      "\n",
      "boston_df: \n",
      " listing_id        int64\n",
      "id                int64\n",
      "date             object\n",
      "reviewer_id       int64\n",
      "reviewer_name    object\n",
      "comments         object\n",
      "dtype: object\n",
      "seattle_df: \n",
      " listing_id        int64\n",
      "id                int64\n",
      "date             object\n",
      "reviewer_id       int64\n",
      "reviewer_name    object\n",
      "comments         object\n",
      "dtype: object\n"
     ]
    }
   ],
   "source": [
    "print('Calendar: \\n')\n",
    "print('boston_df: \\n', boston_calendar_df.dtypes)\n",
    "print('\\n seattle_df: \\n', seattle_calendar_df.dtypes)\n",
    "print('\\n Listings: \\n')\n",
    "print('boston_df: \\n', boston_listings_df.dtypes)\n",
    "print('\\n  seattle_df: \\n', seattle_listings_df.dtypes)\n",
    "print('\\n Reviews: \\n')\n",
    "print('boston_df: \\n', boston_reviews_df.dtypes)\n",
    "print('seattle_df: \\n', seattle_reviews_df.dtypes)\n"
   ]
  },
  {
   "cell_type": "markdown",
   "metadata": {},
   "source": [
    "### Now we need to convert some of the datatypes to a more usable form."
   ]
  },
  {
   "cell_type": "code",
   "execution_count": 9,
   "metadata": {},
   "outputs": [],
   "source": [
    "def cash_to_float(df, col):\n",
    "    '''Function that converts a column from dollars to floats\n",
    "    Args:\n",
    "        df (df): dataframe\n",
    "        col (str): column name\n",
    "    Returns:\n",
    "        df (df): original df with type cast to float\n",
    "    '''\n",
    "    #convert price to numerical\n",
    "    df[col] = df[col].astype('str')\n",
    "    df[col] = df[col].str.replace('$','')\n",
    "    df[col] = df[col].str.replace(',','')\n",
    "    df[col] = df[col].astype('float64')\n",
    "    \n",
    "    return df"
   ]
  },
  {
   "cell_type": "code",
   "execution_count": 10,
   "metadata": {},
   "outputs": [],
   "source": [
    "def convert_calendar_df(calendar_df):\n",
    "    '''Function that converts dtypes for the calender dfs\n",
    "    Args:\n",
    "        calender_df (df): df columns ['listing_id', 'date', 'available']\n",
    "    Returns:\"\n",
    "        calender_df (df): df columns ['listing_id', 'date', 'available']\n",
    "    '''\n",
    "    # convert date to datetime\n",
    "    calendar_df['date'] = pd.to_datetime(calendar_df['date'])\n",
    "    # convert available to binary\n",
    "    calendar_df['available'] = calendar_df['available'] == 't'\n",
    "    calendar_df['available'] = calendar_df['available']*1\n",
    "    #convert price to numerical\n",
    "    calendar_df = cash_to_float(calendar_df, 'price')\n",
    "    \n",
    "    return calendar_df"
   ]
  },
  {
   "cell_type": "code",
   "execution_count": 11,
   "metadata": {},
   "outputs": [],
   "source": [
    "def convert_listings_df(listings_df):\n",
    "    '''Function that converts dtypes for the listings dfs\n",
    "    Args:\n",
    "        listings_df (df): df with listings info\n",
    "    Returns:\"\n",
    "        listings_df (df): df columns ['listing_id', 'date', 'available']\n",
    "    '''\n",
    "    \n",
    "    cash_columns = ['price', 'weekly_price','monthly_price','security_deposit','cleaning_fee', 'extra_people']\n",
    "    \n",
    "    float_columns = ['latitude', 'longitude','accommodates','bathrooms','bedrooms','beds','review_scores_rating','review_scores_accuracy',\n",
    "                     'review_scores_cleanliness','review_scores_checkin','review_scores_communication','review_scores_location',\n",
    "                     'review_scores_value', 'host_listings_count','square_feet','guests_included','minimum_nights','maximum_nights',\n",
    "                    'availability_30','availability_60','availability_90','availability_365','calculated_host_listings_count',\n",
    "                   'reviews_per_month']\n",
    "    \n",
    "    bool_columns = ['has_availability'] \n",
    "    str_columns = ['zipcode','host_about']\n",
    "    date_columns = ['host_since']\n",
    "    cat_columns = ['property_type','room_type','bed_type']\n",
    "    \n",
    "    # convert cash columns\n",
    "    for col in cash_columns:\n",
    "         listings_df = cash_to_float(listings_df, col)\n",
    "        \n",
    "    #convert float columns\n",
    "    for col in float_columns:\n",
    "        listings_df[col] = listings_df[col].astype('float64')\n",
    "        \n",
    "    #convert bool columns to 0/1\n",
    "    for col in bool_columns:\n",
    "        listings_df[col] = listings_df[col] == 'y'\n",
    "        listings_df[col] = listings_df[col]*1\n",
    "    \n",
    "    #convert str columns\n",
    "    for col in str_columns:\n",
    "        listings_df[col] = listings_df[col].astype('str')\n",
    "    \n",
    "    #convert date columns\n",
    "    for col in date_columns:\n",
    "        listings_df[col] = pd.to_datetime(listings_df[col])\n",
    "        \n",
    "    # drop unnecessary columns\n",
    "    keep_cols = [\n",
    "        'id',\n",
    "        'zipcode',\n",
    "        'host_since',\n",
    "        'host_about',\n",
    "        'host_listings_count',\n",
    "        'latitude',\n",
    "        'longitude',\n",
    "        'property_type',\n",
    "        'room_type',\n",
    "        'accommodates',\n",
    "        'bathrooms',\n",
    "        'bedrooms',\n",
    "        'beds',\n",
    "        'bed_type',\n",
    "        'amenities',\n",
    "        'square_feet',\n",
    "        'price',\n",
    "        'weekly_price',\n",
    "        'monthly_price',\n",
    "        'security_deposit',\n",
    "        'cleaning_fee',\n",
    "        'guests_included',\n",
    "        'extra_people',\n",
    "        'minimum_nights',\n",
    "        'maximum_nights',\n",
    "        'has_availability',\n",
    "        'availability_30',\n",
    "        'availability_60',\n",
    "        'availability_90',\n",
    "        'availability_365',\n",
    "        'review_scores_rating',\n",
    "        'review_scores_accuracy',\n",
    "        'review_scores_cleanliness',\n",
    "        'review_scores_checkin',\n",
    "        'review_scores_communication',\n",
    "        'review_scores_location',\n",
    "        'review_scores_value',\n",
    "        'calculated_host_listings_count',\n",
    "        'reviews_per_month']\n",
    "    \n",
    "    listings_df = drop_cols(listings_df, keep_cols)\n",
    "    \n",
    "    # convert categorical columns to one hot vector encoding  \n",
    "    for col in cat_columns:\n",
    "        # append categorical df\n",
    "        listings_df = pd.concat([listings_df, pd.get_dummies(listings_df[col])], axis=1)\n",
    "        # drop original cat column\n",
    "        listings_df.drop(col, axis=1, inplace=True)\n",
    "    \n",
    "    return listings_df"
   ]
  },
  {
   "cell_type": "code",
   "execution_count": 12,
   "metadata": {},
   "outputs": [],
   "source": [
    "def convert_reviews_df(calender_df):\n",
    "    '''Function that converts dtypes for the calender dfs\n",
    "    Args:\n",
    "        calender_df (df): df columns ['listing_id', 'date', 'available']\n",
    "    Returns:\"\n",
    "        calender_df (df): df columns ['listing_id', 'date', 'available']\n",
    "    '''\n",
    "    calender_df['date'] = pd.to_datetime(calender_df['date'])\n",
    "    calender_df['reviewer_name'] = calender_df['reviewer_name'].astype('str')\n",
    "    calender_df['comments'] = calender_df['comments'].astype(str)\n",
    "    \n",
    "    return calender_df"
   ]
  },
  {
   "cell_type": "markdown",
   "metadata": {},
   "source": [
    "### Convert dataframe dtypes"
   ]
  },
  {
   "cell_type": "code",
   "execution_count": 13,
   "metadata": {},
   "outputs": [
    {
     "name": "stderr",
     "output_type": "stream",
     "text": [
      "/home/qsherida/.local/lib/python3.6/site-packages/pandas/core/ops/__init__.py:1115: FutureWarning: elementwise comparison failed; returning scalar instead, but in the future will perform elementwise comparison\n",
      "  result = method(y)\n"
     ]
    }
   ],
   "source": [
    "# convert dataframe dtypes\n",
    "# calenders\n",
    "boston_calendar_df = convert_calendar_df(boston_calendar_df);\n",
    "seattle_calendar_df = convert_calendar_df(seattle_calendar_df);\n",
    "# listings\n",
    "boston_listings_df = convert_listings_df(boston_listings_df);\n",
    "seattle_listings_df = convert_listings_df(seattle_listings_df);\n",
    "# reviews\n",
    "boston_reviews_df = convert_reviews_df(boston_reviews_df);\n",
    "seattle_reviews_df = convert_reviews_df(seattle_reviews_df);"
   ]
  },
  {
   "cell_type": "markdown",
   "metadata": {},
   "source": [
    "### Lets examine the mean median and mode comparison of some columns for the two cities"
   ]
  },
  {
   "cell_type": "markdown",
   "metadata": {},
   "source": [
    "#### price"
   ]
  },
  {
   "cell_type": "code",
   "execution_count": 14,
   "metadata": {},
   "outputs": [
    {
     "data": {
      "text/plain": [
       "count    643037.000000\n",
       "mean        198.438909\n",
       "std         180.142913\n",
       "min          11.000000\n",
       "25%          85.000000\n",
       "50%         150.000000\n",
       "75%         255.000000\n",
       "max        7163.000000\n",
       "Name: price, dtype: float64"
      ]
     },
     "execution_count": 14,
     "metadata": {},
     "output_type": "execute_result"
    }
   ],
   "source": [
    "boston_calendar_df.columns\n",
    "boston_calendar_df['price'].describe()"
   ]
  },
  {
   "cell_type": "code",
   "execution_count": 15,
   "metadata": {},
   "outputs": [
    {
     "data": {
      "text/plain": [
       "count    934542.000000\n",
       "mean        137.944859\n",
       "std         105.062870\n",
       "min          10.000000\n",
       "25%          75.000000\n",
       "50%         109.000000\n",
       "75%         160.000000\n",
       "max        1650.000000\n",
       "Name: price, dtype: float64"
      ]
     },
     "execution_count": 15,
     "metadata": {},
     "output_type": "execute_result"
    }
   ],
   "source": [
    "seattle_calendar_df['price'].describe()"
   ]
  },
  {
   "cell_type": "markdown",
   "metadata": {},
   "source": [
    "#### capacity"
   ]
  },
  {
   "cell_type": "code",
   "execution_count": 16,
   "metadata": {},
   "outputs": [
    {
     "data": {
      "text/plain": [
       "count    3585.000000\n",
       "mean        3.041283\n",
       "std         1.778929\n",
       "min         1.000000\n",
       "25%         2.000000\n",
       "50%         2.000000\n",
       "75%         4.000000\n",
       "max        16.000000\n",
       "Name: accommodates, dtype: float64"
      ]
     },
     "execution_count": 16,
     "metadata": {},
     "output_type": "execute_result"
    }
   ],
   "source": [
    "boston_listings_df.columns\n",
    "boston_listings_df['accommodates'].describe()"
   ]
  },
  {
   "cell_type": "code",
   "execution_count": 17,
   "metadata": {},
   "outputs": [
    {
     "data": {
      "text/plain": [
       "count    3818.000000\n",
       "mean        3.349398\n",
       "std         1.977599\n",
       "min         1.000000\n",
       "25%         2.000000\n",
       "50%         3.000000\n",
       "75%         4.000000\n",
       "max        16.000000\n",
       "Name: accommodates, dtype: float64"
      ]
     },
     "execution_count": 17,
     "metadata": {},
     "output_type": "execute_result"
    }
   ],
   "source": [
    "seattle_listings_df['accommodates'].describe()"
   ]
  },
  {
   "cell_type": "markdown",
   "metadata": {},
   "source": [
    "From this, wee can see that on average, it is about $60 more per night to rent an air BNB in Boston than in Seattle.  However, we can also see that on average, a unit in Seattle will accomodate more occupants.  It would be interesting to see how this looks in terms of per capita if wee assume a fully occupied unit.  To do this, we will need create a new column with price/accomodates."
   ]
  },
  {
   "cell_type": "code",
   "execution_count": 18,
   "metadata": {},
   "outputs": [
    {
     "name": "stdout",
     "output_type": "stream",
     "text": [
      "Boston average price per guest: 62.78624554470789\n",
      "Seattle average price per guest: 41.26692308004841\n"
     ]
    }
   ],
   "source": [
    "# merge dfs\n",
    "# create new colum price/accomodates\n",
    "boston_listings_df['price_per_person']=boston_listings_df['price']/boston_listings_df['accommodates']\n",
    "seattle_listings_df['price_per_person']=seattle_listings_df['price']/seattle_listings_df['accommodates']\n",
    "\n",
    "\n",
    "# take column average \n",
    "boston_average_price_per_person = boston_listings_df[boston_listings_df['price'].notnull()]['price_per_person'].mean()\n",
    "seattle_average_price_per_person = seattle_listings_df[seattle_listings_df['price'].notnull()]['price_per_person'].mean()\n",
    "\n",
    "print(f'Boston average price per guest: {boston_average_price_per_person}')\n",
    "print(f'Seattle average price per guest: {seattle_average_price_per_person}')\n",
    "\n",
    "#drop columns after printing\n",
    "boston_listings_df.drop('price_per_person', axis=1, inplace=True)\n",
    "seattle_listings_df.drop('price_per_person', axis=1, inplace=True)\n"
   ]
  },
  {
   "cell_type": "code",
   "execution_count": 19,
   "metadata": {},
   "outputs": [],
   "source": [
    "# do price per person analysis on the Calende"
   ]
  },
  {
   "cell_type": "markdown",
   "metadata": {},
   "source": [
    "We can see a fully occupied room in Seattle will be about 30% cheaper per guest."
   ]
  },
  {
   "cell_type": "markdown",
   "metadata": {},
   "source": [
    "#### review scores rating"
   ]
  },
  {
   "cell_type": "code",
   "execution_count": 20,
   "metadata": {},
   "outputs": [
    {
     "data": {
      "text/plain": [
       "count    2772.000000\n",
       "mean       91.916667\n",
       "std         9.531686\n",
       "min        20.000000\n",
       "25%        89.000000\n",
       "50%        94.000000\n",
       "75%        98.250000\n",
       "max       100.000000\n",
       "Name: review_scores_rating, dtype: float64"
      ]
     },
     "execution_count": 20,
     "metadata": {},
     "output_type": "execute_result"
    }
   ],
   "source": [
    "boston_listings_df['review_scores_rating'].describe()"
   ]
  },
  {
   "cell_type": "code",
   "execution_count": 21,
   "metadata": {},
   "outputs": [
    {
     "data": {
      "text/plain": [
       "count    3171.000000\n",
       "mean       94.539262\n",
       "std         6.606083\n",
       "min        20.000000\n",
       "25%        93.000000\n",
       "50%        96.000000\n",
       "75%        99.000000\n",
       "max       100.000000\n",
       "Name: review_scores_rating, dtype: float64"
      ]
     },
     "execution_count": 21,
     "metadata": {},
     "output_type": "execute_result"
    }
   ],
   "source": [
    "seattle_listings_df['review_scores_rating'].describe()"
   ]
  },
  {
   "cell_type": "markdown",
   "metadata": {},
   "source": [
    "We can see that both of the cities have excellent review scors > %90 with Seattle reviews being slightly higher by about 2% on average."
   ]
  },
  {
   "cell_type": "markdown",
   "metadata": {},
   "source": [
    "### Lets check a heat map of the listings dataframe for each city"
   ]
  },
  {
   "cell_type": "code",
   "execution_count": 22,
   "metadata": {},
   "outputs": [
    {
     "name": "stdout",
     "output_type": "stream",
     "text": [
      "(3585, 32)\n",
      "(3818, 32)\n"
     ]
    },
    {
     "data": {
      "text/plain": [
       "set()"
      ]
     },
     "execution_count": 22,
     "metadata": {},
     "output_type": "execute_result"
    }
   ],
   "source": [
    "boston_listings_df_numerics = boston_listings_df.select_dtypes(['int64', 'float64'])\n",
    "seattle_listings_df_numerics = seattle_listings_df.select_dtypes(['int64', 'float64'])\n",
    "\n",
    "print(boston_listings_df_numerics.shape)\n",
    "print(seattle_listings_df_numerics.shape)\n",
    "\n",
    "diff_columns = set(boston_listings_df_numerics.columns)-set(seattle_listings_df_numerics.columns)\n",
    "diff_columns"
   ]
  },
  {
   "cell_type": "code",
   "execution_count": 23,
   "metadata": {},
   "outputs": [],
   "source": [
    "def plot_corr(df_corr):\n",
    "    '''Function to plot correlation heat map\n",
    "    Args:\n",
    "        df_corr (df) result of df.corr()\n",
    "    Returns:\n",
    "        None\n",
    "    '''\n",
    "    # calculate the correlation matrix\n",
    "    #corr = df.corr()\n",
    "    \n",
    "    plt.figure(figsize=(16, 6))\n",
    "    # plot the heatmap\n",
    "    sns.heatmap(df_corr, \n",
    "            xticklabels=df_corr.columns,\n",
    "            yticklabels=df_corr.columns)\n"
   ]
  },
  {
   "cell_type": "code",
   "execution_count": 24,
   "metadata": {
    "scrolled": true
   },
   "outputs": [
    {
     "data": {
      "image/png": "[encoded data removed]",
      "text/plain": [
       "<Figure size 1152x432 with 2 Axes>"
      ]
     },
     "metadata": {
      "needs_background": "light"
     },
     "output_type": "display_data"
    }
   ],
   "source": [
    "plot_corr(boston_listings_df_numerics.corr())"
   ]
  },
  {
   "cell_type": "code",
   "execution_count": 25,
   "metadata": {},
   "outputs": [
    {
     "data": {
      "image/png": "[encoded data removed]",
      "text/plain": [
       "<Figure size 1152x432 with 2 Axes>"
      ]
     },
     "metadata": {
      "needs_background": "light"
     },
     "output_type": "display_data"
    }
   ],
   "source": [
    "plot_corr(seattle_listings_df_numerics.corr())"
   ]
  },
  {
   "cell_type": "markdown",
   "metadata": {},
   "source": [
    "In both cities we see an expected result: bedrooms, beds, sqaure feet, cleaning fee, guests included, and pricing are all correlated.  This makes since as wee would expect a larger room to have a higher cpacity, and as such it will have more beds, accomodate more people, and therefore fetch a hihgher asking price."
   ]
  },
  {
   "cell_type": "markdown",
   "metadata": {},
   "source": [
    "### Lets see if there are any intersting patterns in the differences between the two correlation heat maps"
   ]
  },
  {
   "cell_type": "code",
   "execution_count": 26,
   "metadata": {},
   "outputs": [
    {
     "data": {
      "image/png": "[encoded data removed]",
      "text/plain": [
       "<Figure size 1152x432 with 2 Axes>"
      ]
     },
     "metadata": {
      "needs_background": "light"
     },
     "output_type": "display_data"
    }
   ],
   "source": [
    "cols = boston_listings_df_numerics.columns\n",
    "corr_diff = boston_listings_df_numerics.corr().values-seattle_listings_df_numerics.corr().values\n",
    "corr_diff_df = pd.DataFrame(data=corr_diff, columns = cols)\n",
    "\n",
    "plot_corr(corr_diff_df)\n"
   ]
  },
  {
   "cell_type": "markdown",
   "metadata": {},
   "source": [
    "Between the two cities there are a few interesting differences.  Seattle has a higher correlation between the size of the air BNB and the security deposit.  This makes since due to the higher housing costs  and higher cost of living in Seattle relative to Boston."
   ]
  },
  {
   "cell_type": "markdown",
   "metadata": {},
   "source": [
    "#### Each city has about a years worth of data, but the data were taken during different intervals and we can not compare them as is, so we will extract the month from the date to compare them.\n"
   ]
  },
  {
   "cell_type": "code",
   "execution_count": 27,
   "metadata": {},
   "outputs": [],
   "source": [
    "boston_calendar_df['month'] = pd.DatetimeIndex(boston_calendar_df['date']).month\n",
    "seattle_calendar_df['month'] = pd.DatetimeIndex(seattle_calendar_df['date']).month"
   ]
  },
  {
   "cell_type": "code",
   "execution_count": 28,
   "metadata": {},
   "outputs": [
    {
     "data": {
      "text/plain": [
       "<matplotlib.legend.Legend at 0x7f96a21a92b0>"
      ]
     },
     "execution_count": 28,
     "metadata": {},
     "output_type": "execute_result"
    },
    {
     "data": {
      "image/png": "[encoded data removed]",
      "text/plain": [
       "<Figure size 576x432 with 2 Axes>"
      ]
     },
     "metadata": {
      "needs_background": "light"
     },
     "output_type": "display_data"
    }
   ],
   "source": [
    "# plot price vs month for each city\n",
    "boston_calendar_available = boston_calendar_df[boston_calendar_df['price'].notnull()]\n",
    "seattle_calendar_available = seattle_calendar_df[seattle_calendar_df['price'].notnull()]\n",
    "\n",
    "boston_monthly_price = boston_calendar_available.groupby('month').price.mean()\n",
    "seattle_monthly_price = seattle_calendar_available.groupby('month').price.mean()\n",
    "\n",
    "\n",
    "boston_calendar_rooms_available = pd.merge(boston_calendar_available, boston_listings_df,how='left', \n",
    "                                           left_on='listing_id' ,right_on='id').groupby('month')['accommodates'].mean()\n",
    "seattle_calendar_rooms_available = pd.merge(seattle_calendar_available, seattle_listings_df,how='left', \n",
    "                                           left_on='listing_id' ,right_on='id').groupby('month')['accommodates'].mean()\n",
    "\n",
    "boston_monthly_price = boston_calendar_available.groupby('month').price.mean()\n",
    "seattle_monthly_price = seattle_calendar_available.groupby('month').price.mean()\n",
    "\n",
    "fig, ax = plt.subplots(2,figsize=(8, 6),constrained_layout=True)\n",
    "\n",
    "ax[0].plot(boston_monthly_price.index, boston_monthly_price.values, label='Boston')\n",
    "ax[0].plot(seattle_monthly_price.index, seattle_monthly_price.values, label='Seattle')\n",
    "ax[0].set_xlabel('Month')\n",
    "ax[0].set_ylabel('Average Price')\n",
    "ax[0].legend(title='Average Price Per Month')\n",
    "\n",
    "ax[1].plot(boston_monthly_price.index, boston_calendar_rooms_available.values, label='Boston')\n",
    "ax[1].plot(seattle_monthly_price.index, seattle_calendar_rooms_available.values, label='Seattle')\n",
    "ax[1].set_xlabel('Month')\n",
    "ax[1].set_ylabel('Average Accomodation')\n",
    "ax[1].legend(title='Average Accomodation Per Month')\n",
    "#secaxy = ax.secondary_yaxis('right')\n",
    "#secaxy.set_ylabel(r'$T\\ [^oF]$')"
   ]
  },
  {
   "cell_type": "markdown",
   "metadata": {},
   "source": [
    "For the data set given, we can see that both cities experience minimum AirBNB pricing during January.  Pricing in Seattle peaks during July whereas pricing in Boston peaks during November.  The average room price clearly changes a lot during the year.  Choosing your booking time can save you upt to 30% so it is worth while to plan ahead.\n",
    "\n",
    "The average accomodation size is larger for Seattle in all months.  The average accomodation of Seattle is fairly constant throughout the year while Boston sees a sharp increase in december."
   ]
  },
  {
   "cell_type": "markdown",
   "metadata": {},
   "source": [
    "## Lets try to fit a model to predict the price of a unit in each city at a given time"
   ]
  },
  {
   "cell_type": "markdown",
   "metadata": {},
   "source": [
    "### Get the Data"
   ]
  },
  {
   "cell_type": "code",
   "execution_count": 29,
   "metadata": {},
   "outputs": [],
   "source": [
    "from sklearn.model_selection import train_test_split\n"
   ]
  },
  {
   "cell_type": "code",
   "execution_count": 30,
   "metadata": {},
   "outputs": [
    {
     "name": "stderr",
     "output_type": "stream",
     "text": [
      "/home/qsherida/.local/lib/python3.6/site-packages/pandas/core/frame.py:4117: SettingWithCopyWarning: \n",
      "A value is trying to be set on a copy of a slice from a DataFrame\n",
      "\n",
      "See the caveats in the documentation: http://pandas.pydata.org/pandas-docs/stable/user_guide/indexing.html#returning-a-view-versus-a-copy\n",
      "  errors=errors,\n"
     ]
    },
    {
     "data": {
      "text/html": [
       "<div>\n",
       "<style scoped>\n",
       "    .dataframe tbody tr th:only-of-type {\n",
       "        vertical-align: middle;\n",
       "    }\n",
       "\n",
       "    .dataframe tbody tr th {\n",
       "        vertical-align: top;\n",
       "    }\n",
       "\n",
       "    .dataframe thead th {\n",
       "        text-align: right;\n",
       "    }\n",
       "</style>\n",
       "<table border=\"1\" class=\"dataframe\">\n",
       "  <thead>\n",
       "    <tr style=\"text-align: right;\">\n",
       "      <th></th>\n",
       "      <th>price</th>\n",
       "      <th>month</th>\n",
       "      <th>id</th>\n",
       "      <th>host_listings_count</th>\n",
       "      <th>latitude</th>\n",
       "      <th>longitude</th>\n",
       "      <th>accommodates</th>\n",
       "      <th>bathrooms</th>\n",
       "      <th>bedrooms</th>\n",
       "      <th>beds</th>\n",
       "      <th>...</th>\n",
       "      <th>availability_365</th>\n",
       "      <th>review_scores_rating</th>\n",
       "      <th>review_scores_accuracy</th>\n",
       "      <th>review_scores_cleanliness</th>\n",
       "      <th>review_scores_checkin</th>\n",
       "      <th>review_scores_communication</th>\n",
       "      <th>review_scores_location</th>\n",
       "      <th>review_scores_value</th>\n",
       "      <th>calculated_host_listings_count</th>\n",
       "      <th>reviews_per_month</th>\n",
       "    </tr>\n",
       "  </thead>\n",
       "  <tbody>\n",
       "    <tr>\n",
       "      <th>0</th>\n",
       "      <td>NaN</td>\n",
       "      <td>9</td>\n",
       "      <td>12147973</td>\n",
       "      <td>1.0</td>\n",
       "      <td>42.282619</td>\n",
       "      <td>-71.133068</td>\n",
       "      <td>4.0</td>\n",
       "      <td>1.5</td>\n",
       "      <td>2.0</td>\n",
       "      <td>3.0</td>\n",
       "      <td>...</td>\n",
       "      <td>0.0</td>\n",
       "      <td>NaN</td>\n",
       "      <td>NaN</td>\n",
       "      <td>NaN</td>\n",
       "      <td>NaN</td>\n",
       "      <td>NaN</td>\n",
       "      <td>NaN</td>\n",
       "      <td>NaN</td>\n",
       "      <td>1.0</td>\n",
       "      <td>NaN</td>\n",
       "    </tr>\n",
       "    <tr>\n",
       "      <th>1</th>\n",
       "      <td>NaN</td>\n",
       "      <td>9</td>\n",
       "      <td>12147973</td>\n",
       "      <td>1.0</td>\n",
       "      <td>42.282619</td>\n",
       "      <td>-71.133068</td>\n",
       "      <td>4.0</td>\n",
       "      <td>1.5</td>\n",
       "      <td>2.0</td>\n",
       "      <td>3.0</td>\n",
       "      <td>...</td>\n",
       "      <td>0.0</td>\n",
       "      <td>NaN</td>\n",
       "      <td>NaN</td>\n",
       "      <td>NaN</td>\n",
       "      <td>NaN</td>\n",
       "      <td>NaN</td>\n",
       "      <td>NaN</td>\n",
       "      <td>NaN</td>\n",
       "      <td>1.0</td>\n",
       "      <td>NaN</td>\n",
       "    </tr>\n",
       "    <tr>\n",
       "      <th>2</th>\n",
       "      <td>NaN</td>\n",
       "      <td>9</td>\n",
       "      <td>12147973</td>\n",
       "      <td>1.0</td>\n",
       "      <td>42.282619</td>\n",
       "      <td>-71.133068</td>\n",
       "      <td>4.0</td>\n",
       "      <td>1.5</td>\n",
       "      <td>2.0</td>\n",
       "      <td>3.0</td>\n",
       "      <td>...</td>\n",
       "      <td>0.0</td>\n",
       "      <td>NaN</td>\n",
       "      <td>NaN</td>\n",
       "      <td>NaN</td>\n",
       "      <td>NaN</td>\n",
       "      <td>NaN</td>\n",
       "      <td>NaN</td>\n",
       "      <td>NaN</td>\n",
       "      <td>1.0</td>\n",
       "      <td>NaN</td>\n",
       "    </tr>\n",
       "    <tr>\n",
       "      <th>3</th>\n",
       "      <td>NaN</td>\n",
       "      <td>9</td>\n",
       "      <td>12147973</td>\n",
       "      <td>1.0</td>\n",
       "      <td>42.282619</td>\n",
       "      <td>-71.133068</td>\n",
       "      <td>4.0</td>\n",
       "      <td>1.5</td>\n",
       "      <td>2.0</td>\n",
       "      <td>3.0</td>\n",
       "      <td>...</td>\n",
       "      <td>0.0</td>\n",
       "      <td>NaN</td>\n",
       "      <td>NaN</td>\n",
       "      <td>NaN</td>\n",
       "      <td>NaN</td>\n",
       "      <td>NaN</td>\n",
       "      <td>NaN</td>\n",
       "      <td>NaN</td>\n",
       "      <td>1.0</td>\n",
       "      <td>NaN</td>\n",
       "    </tr>\n",
       "    <tr>\n",
       "      <th>4</th>\n",
       "      <td>NaN</td>\n",
       "      <td>9</td>\n",
       "      <td>12147973</td>\n",
       "      <td>1.0</td>\n",
       "      <td>42.282619</td>\n",
       "      <td>-71.133068</td>\n",
       "      <td>4.0</td>\n",
       "      <td>1.5</td>\n",
       "      <td>2.0</td>\n",
       "      <td>3.0</td>\n",
       "      <td>...</td>\n",
       "      <td>0.0</td>\n",
       "      <td>NaN</td>\n",
       "      <td>NaN</td>\n",
       "      <td>NaN</td>\n",
       "      <td>NaN</td>\n",
       "      <td>NaN</td>\n",
       "      <td>NaN</td>\n",
       "      <td>NaN</td>\n",
       "      <td>1.0</td>\n",
       "      <td>NaN</td>\n",
       "    </tr>\n",
       "    <tr>\n",
       "      <th>...</th>\n",
       "      <td>...</td>\n",
       "      <td>...</td>\n",
       "      <td>...</td>\n",
       "      <td>...</td>\n",
       "      <td>...</td>\n",
       "      <td>...</td>\n",
       "      <td>...</td>\n",
       "      <td>...</td>\n",
       "      <td>...</td>\n",
       "      <td>...</td>\n",
       "      <td>...</td>\n",
       "      <td>...</td>\n",
       "      <td>...</td>\n",
       "      <td>...</td>\n",
       "      <td>...</td>\n",
       "      <td>...</td>\n",
       "      <td>...</td>\n",
       "      <td>...</td>\n",
       "      <td>...</td>\n",
       "      <td>...</td>\n",
       "      <td>...</td>\n",
       "    </tr>\n",
       "    <tr>\n",
       "      <th>1308885</th>\n",
       "      <td>NaN</td>\n",
       "      <td>9</td>\n",
       "      <td>14504422</td>\n",
       "      <td>14.0</td>\n",
       "      <td>42.387888</td>\n",
       "      <td>-71.080654</td>\n",
       "      <td>2.0</td>\n",
       "      <td>1.0</td>\n",
       "      <td>1.0</td>\n",
       "      <td>1.0</td>\n",
       "      <td>...</td>\n",
       "      <td>165.0</td>\n",
       "      <td>NaN</td>\n",
       "      <td>NaN</td>\n",
       "      <td>NaN</td>\n",
       "      <td>NaN</td>\n",
       "      <td>NaN</td>\n",
       "      <td>NaN</td>\n",
       "      <td>NaN</td>\n",
       "      <td>3.0</td>\n",
       "      <td>NaN</td>\n",
       "    </tr>\n",
       "    <tr>\n",
       "      <th>1308886</th>\n",
       "      <td>NaN</td>\n",
       "      <td>9</td>\n",
       "      <td>14504422</td>\n",
       "      <td>14.0</td>\n",
       "      <td>42.387888</td>\n",
       "      <td>-71.080654</td>\n",
       "      <td>2.0</td>\n",
       "      <td>1.0</td>\n",
       "      <td>1.0</td>\n",
       "      <td>1.0</td>\n",
       "      <td>...</td>\n",
       "      <td>165.0</td>\n",
       "      <td>NaN</td>\n",
       "      <td>NaN</td>\n",
       "      <td>NaN</td>\n",
       "      <td>NaN</td>\n",
       "      <td>NaN</td>\n",
       "      <td>NaN</td>\n",
       "      <td>NaN</td>\n",
       "      <td>3.0</td>\n",
       "      <td>NaN</td>\n",
       "    </tr>\n",
       "    <tr>\n",
       "      <th>1308887</th>\n",
       "      <td>NaN</td>\n",
       "      <td>9</td>\n",
       "      <td>14504422</td>\n",
       "      <td>14.0</td>\n",
       "      <td>42.387888</td>\n",
       "      <td>-71.080654</td>\n",
       "      <td>2.0</td>\n",
       "      <td>1.0</td>\n",
       "      <td>1.0</td>\n",
       "      <td>1.0</td>\n",
       "      <td>...</td>\n",
       "      <td>165.0</td>\n",
       "      <td>NaN</td>\n",
       "      <td>NaN</td>\n",
       "      <td>NaN</td>\n",
       "      <td>NaN</td>\n",
       "      <td>NaN</td>\n",
       "      <td>NaN</td>\n",
       "      <td>NaN</td>\n",
       "      <td>3.0</td>\n",
       "      <td>NaN</td>\n",
       "    </tr>\n",
       "    <tr>\n",
       "      <th>1308888</th>\n",
       "      <td>NaN</td>\n",
       "      <td>9</td>\n",
       "      <td>14504422</td>\n",
       "      <td>14.0</td>\n",
       "      <td>42.387888</td>\n",
       "      <td>-71.080654</td>\n",
       "      <td>2.0</td>\n",
       "      <td>1.0</td>\n",
       "      <td>1.0</td>\n",
       "      <td>1.0</td>\n",
       "      <td>...</td>\n",
       "      <td>165.0</td>\n",
       "      <td>NaN</td>\n",
       "      <td>NaN</td>\n",
       "      <td>NaN</td>\n",
       "      <td>NaN</td>\n",
       "      <td>NaN</td>\n",
       "      <td>NaN</td>\n",
       "      <td>NaN</td>\n",
       "      <td>3.0</td>\n",
       "      <td>NaN</td>\n",
       "    </tr>\n",
       "    <tr>\n",
       "      <th>1308889</th>\n",
       "      <td>NaN</td>\n",
       "      <td>9</td>\n",
       "      <td>14504422</td>\n",
       "      <td>14.0</td>\n",
       "      <td>42.387888</td>\n",
       "      <td>-71.080654</td>\n",
       "      <td>2.0</td>\n",
       "      <td>1.0</td>\n",
       "      <td>1.0</td>\n",
       "      <td>1.0</td>\n",
       "      <td>...</td>\n",
       "      <td>165.0</td>\n",
       "      <td>NaN</td>\n",
       "      <td>NaN</td>\n",
       "      <td>NaN</td>\n",
       "      <td>NaN</td>\n",
       "      <td>NaN</td>\n",
       "      <td>NaN</td>\n",
       "      <td>NaN</td>\n",
       "      <td>3.0</td>\n",
       "      <td>NaN</td>\n",
       "    </tr>\n",
       "  </tbody>\n",
       "</table>\n",
       "<p>1308890 rows × 33 columns</p>\n",
       "</div>"
      ],
      "text/plain": [
       "         price  month        id  host_listings_count   latitude  longitude  \\\n",
       "0          NaN      9  12147973                  1.0  42.282619 -71.133068   \n",
       "1          NaN      9  12147973                  1.0  42.282619 -71.133068   \n",
       "2          NaN      9  12147973                  1.0  42.282619 -71.133068   \n",
       "3          NaN      9  12147973                  1.0  42.282619 -71.133068   \n",
       "4          NaN      9  12147973                  1.0  42.282619 -71.133068   \n",
       "...        ...    ...       ...                  ...        ...        ...   \n",
       "1308885    NaN      9  14504422                 14.0  42.387888 -71.080654   \n",
       "1308886    NaN      9  14504422                 14.0  42.387888 -71.080654   \n",
       "1308887    NaN      9  14504422                 14.0  42.387888 -71.080654   \n",
       "1308888    NaN      9  14504422                 14.0  42.387888 -71.080654   \n",
       "1308889    NaN      9  14504422                 14.0  42.387888 -71.080654   \n",
       "\n",
       "         accommodates  bathrooms  bedrooms  beds  ...  availability_365  \\\n",
       "0                 4.0        1.5       2.0   3.0  ...               0.0   \n",
       "1                 4.0        1.5       2.0   3.0  ...               0.0   \n",
       "2                 4.0        1.5       2.0   3.0  ...               0.0   \n",
       "3                 4.0        1.5       2.0   3.0  ...               0.0   \n",
       "4                 4.0        1.5       2.0   3.0  ...               0.0   \n",
       "...               ...        ...       ...   ...  ...               ...   \n",
       "1308885           2.0        1.0       1.0   1.0  ...             165.0   \n",
       "1308886           2.0        1.0       1.0   1.0  ...             165.0   \n",
       "1308887           2.0        1.0       1.0   1.0  ...             165.0   \n",
       "1308888           2.0        1.0       1.0   1.0  ...             165.0   \n",
       "1308889           2.0        1.0       1.0   1.0  ...             165.0   \n",
       "\n",
       "         review_scores_rating  review_scores_accuracy  \\\n",
       "0                         NaN                     NaN   \n",
       "1                         NaN                     NaN   \n",
       "2                         NaN                     NaN   \n",
       "3                         NaN                     NaN   \n",
       "4                         NaN                     NaN   \n",
       "...                       ...                     ...   \n",
       "1308885                   NaN                     NaN   \n",
       "1308886                   NaN                     NaN   \n",
       "1308887                   NaN                     NaN   \n",
       "1308888                   NaN                     NaN   \n",
       "1308889                   NaN                     NaN   \n",
       "\n",
       "         review_scores_cleanliness  review_scores_checkin  \\\n",
       "0                              NaN                    NaN   \n",
       "1                              NaN                    NaN   \n",
       "2                              NaN                    NaN   \n",
       "3                              NaN                    NaN   \n",
       "4                              NaN                    NaN   \n",
       "...                            ...                    ...   \n",
       "1308885                        NaN                    NaN   \n",
       "1308886                        NaN                    NaN   \n",
       "1308887                        NaN                    NaN   \n",
       "1308888                        NaN                    NaN   \n",
       "1308889                        NaN                    NaN   \n",
       "\n",
       "         review_scores_communication  review_scores_location  \\\n",
       "0                                NaN                     NaN   \n",
       "1                                NaN                     NaN   \n",
       "2                                NaN                     NaN   \n",
       "3                                NaN                     NaN   \n",
       "4                                NaN                     NaN   \n",
       "...                              ...                     ...   \n",
       "1308885                          NaN                     NaN   \n",
       "1308886                          NaN                     NaN   \n",
       "1308887                          NaN                     NaN   \n",
       "1308888                          NaN                     NaN   \n",
       "1308889                          NaN                     NaN   \n",
       "\n",
       "         review_scores_value  calculated_host_listings_count  \\\n",
       "0                        NaN                             1.0   \n",
       "1                        NaN                             1.0   \n",
       "2                        NaN                             1.0   \n",
       "3                        NaN                             1.0   \n",
       "4                        NaN                             1.0   \n",
       "...                      ...                             ...   \n",
       "1308885                  NaN                             3.0   \n",
       "1308886                  NaN                             3.0   \n",
       "1308887                  NaN                             3.0   \n",
       "1308888                  NaN                             3.0   \n",
       "1308889                  NaN                             3.0   \n",
       "\n",
       "         reviews_per_month  \n",
       "0                      NaN  \n",
       "1                      NaN  \n",
       "2                      NaN  \n",
       "3                      NaN  \n",
       "4                      NaN  \n",
       "...                    ...  \n",
       "1308885                NaN  \n",
       "1308886                NaN  \n",
       "1308887                NaN  \n",
       "1308888                NaN  \n",
       "1308889                NaN  \n",
       "\n",
       "[1308890 rows x 33 columns]"
      ]
     },
     "execution_count": 30,
     "metadata": {},
     "output_type": "execute_result"
    }
   ],
   "source": [
    "# drop 'price' from listings, price will be taken from the calender df to examine price over time\n",
    "boston_listings_df_numerics.drop('price', axis=1, inplace=True)\n",
    "seattle_listings_df_numerics.drop('price', axis=1, inplace=True)\n",
    "\n",
    "# merge the listings df with the calendar df, keep the calendar value\n",
    "boston_df = boston_calendar_df.merge(right=boston_listings_df_numerics, how='left', left_on = 'listing_id', right_on='id')\n",
    "boston_df = boston_df.drop(['listing_id', 'date', 'available'],axis=1,  inplace=False)\n",
    "seattle_df = seattle_calendar_df.merge(right=seattle_listings_df_numerics, how='left', left_on = 'listing_id', right_on='id')\n",
    "seattle_df = seattle_df.drop(['listing_id', 'date', 'available'],axis=1, inplace=False)\n",
    "boston_df"
   ]
  },
  {
   "cell_type": "markdown",
   "metadata": {},
   "source": [
    "### Examine the Data"
   ]
  },
  {
   "cell_type": "code",
   "execution_count": 31,
   "metadata": {},
   "outputs": [],
   "source": [
    "# check to see if either sity has missing values for 'date' column as this will be central to our model\n",
    "bd_nulls = boston_df['month'].isnull().sum()\n",
    "sd_nulls = seattle_df['month'].isnull().sum()\n",
    "\n",
    "if bd_nulls > 0:\n",
    "    print(f\"Boston has {bd_nulls} missing values for 'date'.\")\n",
    "\n",
    "if sd_nulls > 0:\n",
    "    print(f\"Seattle has {sd_nulls} missing values for 'date'.\")\n",
    "\n"
   ]
  },
  {
   "cell_type": "code",
   "execution_count": 32,
   "metadata": {},
   "outputs": [
    {
     "data": {
      "image/png": "[encoded data removed]",
      "text/plain": [
       "<Figure size 432x288 with 4 Axes>"
      ]
     },
     "metadata": {
      "needs_background": "light"
     },
     "output_type": "display_data"
    }
   ],
   "source": [
    "# make a histogram of how many values are missing in the columns and rows of our data\n",
    "b_nulls_df =  boston_df.isnull()\n",
    "s_nulls_df = seattle_df.isnull()\n",
    "\n",
    "# rows\n",
    "b_row_null = b_nulls_df.sum(axis=1)/b_nulls_df.shape[1]\n",
    "s_row_null = s_nulls_df.sum(axis=1)/s_nulls_df.shape[1]\n",
    "\n",
    "# columns\n",
    "b_col_null = b_nulls_df.sum()/b_nulls_df.shape[0]\n",
    "s_col_null = b_nulls_df.sum()/b_nulls_df.shape[0]\n",
    "    \n",
    "\n",
    "# make histogram plots of %null\n",
    "f, ([ax1, ax2], [ax3, ax4]) = plt.subplots(2, 2, sharey=False)\n",
    "ax1.hist(b_row_null)\n",
    "ax1.set_title('Boston Rows')\n",
    "ax3.hist(s_row_null)\n",
    "ax3.set_title('Seattle Rows')\n",
    "ax2.hist(b_col_null)\n",
    "ax2.set_title('Boston Columns')\n",
    "ax4.hist(s_col_null)\n",
    "ax4.set_title('Seattle Columns')\n",
    "f.tight_layout()\n",
    "\n",
    "\n"
   ]
  },
  {
   "cell_type": "markdown",
   "metadata": {},
   "source": [
    "We can see that the two cities have some slight differences in what information has been provided by the reviews but in general it seems as though each city has roughly the same sparseness in the data."
   ]
  },
  {
   "cell_type": "markdown",
   "metadata": {},
   "source": [
    "### Prep the Data\n"
   ]
  },
  {
   "cell_type": "code",
   "execution_count": 33,
   "metadata": {},
   "outputs": [],
   "source": [
    "def get_time_data(df, type):\n",
    "    '''Function that returns a df for test/training data\n",
    "    Args:\n",
    "        boston_df (df): df with Boston data\n",
    "        seattle_df (df): df with Seattle data\n",
    "        type (str): type of time representation, on of ['cat', seq', 'catseq']\n",
    "            cat - treat time as categorical by month\n",
    "            seq - treat time as a sequence using sin(2pi*m/12) tranformation\n",
    "            ctaseq - use both cat and seq representations        \n",
    "    Returns:\n",
    "        df (df): df with new time columns for modeling\n",
    "    '''\n",
    "    new_df = df.copy()\n",
    "    \n",
    "    # treating time as a sequence\n",
    "    if type == 'seq':\n",
    "        new_df['time'] = new_df['month'].apply(lambda x: np.sin(2*np.pi*x/12))      \n",
    "    \n",
    "    elif type == 'catseq' or type == 'cat':\n",
    "        # convert month to categorical\n",
    "        month_dummies = pd.get_dummies(new_df['month'])\n",
    "        new_df = pd.concat([new_df,month_dummies], axis=1)\n",
    "        \n",
    "        if type == 'catseq':\n",
    "            # add sequencial transformation\n",
    "            new_df['time'] = new_df['month'].apply(lambda x: np.sin(2*np.pi*x/12))  \n",
    "    \n",
    "    else:\n",
    "        raise NameError(\"get_time_data() invalid option for 'type', use one of ['cat', seq', 'catseq']\")\n",
    "                        \n",
    "    return new_df\n"
   ]
  },
  {
   "cell_type": "markdown",
   "metadata": {},
   "source": [
    "### Clean the Data"
   ]
  },
  {
   "cell_type": "markdown",
   "metadata": {},
   "source": [
    "We need to clean our data up prior to model training and testing.  We will want to remove sparse rows and columns.  If we have too many imputed values in our data, it will skew our models predictions and we will not correctly capture variable relationships."
   ]
  },
  {
   "cell_type": "code",
   "execution_count": 34,
   "metadata": {},
   "outputs": [],
   "source": [
    "def clean_df(original_df, row_min=0.4, col_min=0.6):\n",
    "    '''Function that evaluates how sparse a df is and removes sparse rows and \n",
    "            columns to give better ML model data\n",
    "        Args:\n",
    "            original_df (df): df with uncleaned, intial ML data\n",
    "            row_min (float): acceptable percentage of row Nulls\n",
    "            col_min (float)\": acceptable percentage of column Nulls\n",
    "        Returns:\n",
    "            new_df (df): copy of original_df withrows and columns cleaned\n",
    "    '''\n",
    "    # remove columns\n",
    "    percent_null = original_df.isnull().sum()/original_df.shape[0]\n",
    "    drop_cols = percent_null[percent_null>col_min].index.values\n",
    "    new_df = original_df.drop(drop_cols, axis=1)\n",
    "    # remove rows\n",
    "    drop_rows = new_df[new_df.isnull().sum(axis=1) > row_min].index.values\n",
    "    new_df = new_df.drop(drop_rows, axis=0)\n",
    "        \n",
    "    return new_df"
   ]
  },
  {
   "cell_type": "markdown",
   "metadata": {},
   "source": [
    "### Impute Missing Values"
   ]
  },
  {
   "cell_type": "markdown",
   "metadata": {},
   "source": [
    "We want to use as much data as possible to improve our model performance.  We know that there is a time dependence to our model that we would like to capture.  Therefore, we will impute month based mean values for any missing values in our model to try and give a simple but representative mean value for the missing values. "
   ]
  },
  {
   "cell_type": "code",
   "execution_count": 35,
   "metadata": {},
   "outputs": [],
   "source": [
    "def impute_values(df): \n",
    "    '''Function that imputes monthly mean values for missing values in a df\n",
    "    Args:\n",
    "        df (df): df with missing values\n",
    "    Returns:\n",
    "        df (df): df with missing values imputed \n",
    "    '''\n",
    "    for i in range(12):\n",
    "        df[df['month']==i+1] = df[df['month']==i+1].fillna(df[df['month']==i+1].mean())\n",
    "            \n",
    "    return df     "
   ]
  },
  {
   "cell_type": "code",
   "execution_count": 36,
   "metadata": {},
   "outputs": [],
   "source": [
    "impute_test = pd.DataFrame({'a':[1,2,None,None,4,5, 1,None,None,None,4,5], 'b':[0, 10,None,30,40,50,0, 10,None,30,40,50],\n",
    "                    'month':[1,1,1,1,1,1,2,2,2,2,2,2]})\n",
    "impute_test = impute_values(impute_test)\n",
    "\n",
    "assert_frame_equal(impute_test, pd.DataFrame({'a':[1.0,2.0,3.0,3.0,4.0,5.0,1.0,3.3333333,3.3333333,3.3333333,4.0,5.0], \n",
    "                                        'b':[0.0,10.0,26.0,30.0,40.0,50.0,0.0,10.0,26.0,30.0,40.0,50.0], \n",
    "                                        'month':[1,1,1,1,1,1,2,2,2,2,2,2]}))"
   ]
  },
  {
   "cell_type": "markdown",
   "metadata": {},
   "source": [
    "### Perform Mean Normalization Feature Scaling"
   ]
  },
  {
   "cell_type": "code",
   "execution_count": 37,
   "metadata": {},
   "outputs": [],
   "source": [
    "def normalize_features(X_train):  \n",
    "    X_scaled = preprocessing.scale(X_train)\n",
    "    return X_scaled\n",
    "    "
   ]
  },
  {
   "cell_type": "markdown",
   "metadata": {},
   "source": [
    "### Split Into Test and Training"
   ]
  },
  {
   "cell_type": "code",
   "execution_count": 38,
   "metadata": {},
   "outputs": [],
   "source": [
    "def test_train_data(df, y_column):\n",
    "    '''Function to get test and train data\n",
    "    Args:\n",
    "        df (df): dataframe\n",
    "        columns ([str]): subset of df to use\n",
    "    Returns\n",
    "        X_train, X_test, y_train, y_test: test train data split\n",
    "    '''\n",
    "    # get columns that will be used in our model\n",
    "    y = df[y_column].values\n",
    "    # remove columns that won't be used in the model\n",
    "    drop_columns = ['month', 'id', 'host_listings_count', \n",
    "                'weekly_price', \n",
    "                'monthly_price', 'security_deposit', y_column]\n",
    "    \n",
    "    X = df.drop(drop_columns, axis=1).values\n",
    "    \n",
    "    X_train, X_test, y_train, y_test = train_test_split(X, y, random_state=0)\n",
    "    \n",
    "    return X_train, X_test, y_train, y_test\n"
   ]
  },
  {
   "cell_type": "markdown",
   "metadata": {},
   "source": [
    "### Fit the Model"
   ]
  },
  {
   "cell_type": "code",
   "execution_count": 39,
   "metadata": {},
   "outputs": [
    {
     "data": {
      "text/plain": [
       "array([ 1,  4,  9, 16])"
      ]
     },
     "execution_count": 39,
     "metadata": {},
     "output_type": "execute_result"
    }
   ],
   "source": [
    "a = [1,2,3,4]\n",
    "b = [1,2,3,4]\n",
    "\n",
    "np.multiply(a,b)"
   ]
  },
  {
   "cell_type": "code",
   "execution_count": 40,
   "metadata": {},
   "outputs": [],
   "source": [
    "def fit_evaluate_linear_model(df, time_type, y_col='price'):\n",
    "    '''Function that fits a linear regression model and evaluates the R2 of the model performance\n",
    "    Args:\n",
    "       df (dataframe)\": dataframe for model\n",
    "       time_type (str): type of time representation, on of ['cat', seq', 'catseq']\n",
    "            cat - treat time as categorical by month\n",
    "            seq - treat time as a sequence using sin(2pi*m/12) tranformation\n",
    "            ctaseq - use both cat and seq representations  \n",
    "    Returns:\n",
    "        lm_model (sklearn model):fitted linear regression model\n",
    "        mse (float): model mean squared error\n",
    "        R2(float)\": model R squared\n",
    "    '''\n",
    "    \n",
    "    # make time representation of month\n",
    "    df = get_time_data(df, time_type)\n",
    "    # impute_missing_values\n",
    "    df = impute_values(df)\n",
    "    # get train/test data sets\n",
    "    X_train, X_test, y_train, y_test = test_train_data(df, y_col)\n",
    "    \n",
    "    # initiate model\n",
    "    lm_model = LinearRegression(normalize=True) \n",
    "\n",
    "    # fit \n",
    "    lm_model.fit(X_train, y_train) \n",
    "    \n",
    "    # predict values\n",
    "    y_pred = lm_model.predict(X_test)\n",
    "    # get mean squarred error\n",
    "    mse = mean_squared_error(y_test, y_pred)\n",
    "    R2 = r2_score(y_test, y_pred)\n",
    "    \n",
    "    return lm_model, mse, R2\n"
   ]
  },
  {
   "cell_type": "markdown",
   "metadata": {},
   "source": [
    "### Putting It All Together"
   ]
  },
  {
   "cell_type": "code",
   "execution_count": 41,
   "metadata": {},
   "outputs": [],
   "source": [
    "def main():\n",
    "    # clean original datasets\n",
    "    model_boston_df = clean_df(boston_df, row_min=0.8, col_min=0.8)\n",
    "    model_seattle_df = clean_df(seattle_df, row_min=0.8, col_min=0.8)\n",
    "    \n",
    "    # fit each of the three time models for each city and report the results\n",
    "    time_types = ['cat', 'seq', 'catseq']\n",
    "    #time_types = ['cat']\n",
    "    \n",
    "    print('Boston Model Evaluation')\n",
    "    #Boston\n",
    "    for time_type in time_types:\n",
    "        # make time representation of month\n",
    "        lm_model, mse, R2 = fit_evaluate_linear_model(model_boston_df, time_type)\n",
    "        print('time type: ', time_type, 'MSE: ', mse, 'R2: ', R2)\n",
    "        \n",
    "    print('Seattle Model Evaluation')\n",
    "    #Boston\n",
    "    for time_type in time_types:\n",
    "        # make time representation of month\n",
    "        lm_model, mse, R2 = fit_evaluate_linear_model(model_seattle_df, time_type)\n",
    "        print('time type: ', time_type, 'MSE: ', mse, 'R2: ', R2)\n",
    "        \n",
    "    \n",
    "        "
   ]
  },
  {
   "cell_type": "code",
   "execution_count": 42,
   "metadata": {},
   "outputs": [
    {
     "name": "stdout",
     "output_type": "stream",
     "text": [
      "Boston Model Evaluation\n",
      "time type:  cat MSE:  4872.5097959167115 R2:  0.6999049769660759\n",
      "time type:  seq MSE:  4918.324049329934 R2:  0.697083303945563\n",
      "time type:  catseq MSE:  4872.381562783655 R2:  0.699912874769596\n",
      "Seattle Model Evaluation\n",
      "time type:  cat MSE:  4026.674308090629 R2:  0.5771962899504524\n",
      "time type:  seq MSE:  4068.26737620269 R2:  0.5728289877639337\n",
      "time type:  catseq MSE:  4026.6685368961835 R2:  0.5771968959300364\n"
     ]
    }
   ],
   "source": [
    "main()"
   ]
  },
  {
   "cell_type": "code",
   "execution_count": null,
   "metadata": {},
   "outputs": [],
   "source": []
  }
 ],
 "metadata": {
  "kernelspec": {
   "display_name": "Python 3",
   "language": "python",
   "name": "python3"
  },
  "language_info": {
   "codemirror_mode": {
    "name": "ipython",
    "version": 3
   },
   "file_extension": ".py",
   "mimetype": "text/x-python",
   "name": "python",
   "nbconvert_exporter": "python",
   "pygments_lexer": "ipython3",
   "version": "3.6.8"
  }
 },
 "nbformat": 4,
 "nbformat_minor": 2
}
